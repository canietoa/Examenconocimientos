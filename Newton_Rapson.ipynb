{
 "cells": [
  {
   "cell_type": "code",
   "execution_count": 19,
   "metadata": {},
   "outputs": [],
   "source": [
    "import numpy as np\n",
    "from matplotlib import pyplot as plt\n",
    "from ipywidgets import interactive, fixed"
   ]
  },
  {
   "cell_type": "markdown",
   "metadata": {},
   "source": [
    "Supongamos que tenemos la funcion \\\\(f(x)\\\\) con primera derivada conocida \\\\(f'(x)\\\\)\n",
    "por ejemplo \\\\(f(x)=x^3-4x^2-4x+16\\\\)"
   ]
  },
  {
   "cell_type": "code",
   "execution_count": 5,
   "metadata": {},
   "outputs": [],
   "source": [
    "%matplotlib inline"
   ]
  },
  {
   "cell_type": "markdown",
   "metadata": {},
   "source": [
    "Queremos encontrar los valores paralos cuales \\\\(f(x)=0\\\\)"
   ]
  },
  {
   "cell_type": "code",
   "execution_count": 24,
   "metadata": {},
   "outputs": [],
   "source": [
    "def funct(x):\n",
    "    return x**3-4*x**2-4*x+16\n",
    "\n",
    "def df(x):\n",
    "    return 3*x**2 - 8*x - 4\n",
    "\n",
    "def err(f):\n",
    "    return np.abs(f)\n",
    "\n",
    "def iteracion(x):\n",
    "    return x-(funct(x)/df(x))"
   ]
  },
  {
   "cell_type": "code",
   "execution_count": 22,
   "metadata": {},
   "outputs": [
    {
     "data": {
      "image/png": "[encoded data removed]",
      "text/plain": [
       "<Figure size 432x288 with 1 Axes>"
      ]
     },
     "metadata": {
      "needs_background": "light"
     },
     "output_type": "display_data"
    }
   ],
   "source": [
    "x=np.arange(-5,5,0.1)\n",
    "plt.plot(x,funct(x))\n",
    "plt.grid()"
   ]
  },
  {
   "cell_type": "code",
   "execution_count": 28,
   "metadata": {},
   "outputs": [
    {
     "name": "stdout",
     "output_type": "stream",
     "text": [
      "4.000000000000093\n"
     ]
    }
   ],
   "source": [
    "x0=6\n",
    "while err(funct(x0))>0.0000001:\n",
    "    x0=iteracion(x0)\n",
    "print(x0)"
   ]
  },
  {
   "cell_type": "code",
   "execution_count": 32,
   "metadata": {},
   "outputs": [
    {
     "name": "stdout",
     "output_type": "stream",
     "text": [
      "1.9999999999955917\n"
     ]
    }
   ],
   "source": [
    "x0=2.5\n",
    "while err(funct(x0))>0.0000001:\n",
    "    x0=iteracion(x0)\n",
    "print(x0)"
   ]
  },
  {
   "cell_type": "code",
   "execution_count": 33,
   "metadata": {},
   "outputs": [
    {
     "name": "stdout",
     "output_type": "stream",
     "text": [
      "-2.0000000004776775\n"
     ]
    }
   ],
   "source": [
    "x0=-4\n",
    "while err(funct(x0))>0.0000001:\n",
    "    x0=iteracion(x0)\n",
    "print(x0)"
   ]
  }
 ],
 "metadata": {
  "kernelspec": {
   "display_name": "Python 3",
   "language": "python",
   "name": "python3"
  },
  "language_info": {
   "codemirror_mode": {
    "name": "ipython",
    "version": 3
   },
   "file_extension": ".py",
   "mimetype": "text/x-python",
   "name": "python",
   "nbconvert_exporter": "python",
   "pygments_lexer": "ipython3",
   "version": "3.6.4"
  }
 },
 "nbformat": 4,
 "nbformat_minor": 2
}
