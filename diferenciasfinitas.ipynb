{
 "cells": [
  {
   "cell_type": "code",
   "execution_count": 1,
   "metadata": {},
   "outputs": [],
   "source": [
    "import numpy as np\n",
    "from matplotlib import pyplot as plt\n",
    "from ipywidgets import interactive, fixed"
   ]
  },
  {
   "cell_type": "markdown",
   "metadata": {},
   "source": [
    "Supongamos que tenemos una ecuacion diferencial \\\\(a\\frac{d^2y}{dx^2}+b\\frac{dy}{dx}+c=f(x)\\\\)\n",
    "con condiciones iniciales \\\\(y(x_0)=y_0\\\\) y \\\\(\\frac{dy}{dx}(x_1)=y'(x_1)\\\\)"
   ]
  },
  {
   "cell_type": "markdown",
   "metadata": {},
   "source": [
    "Resolver \\\\(y(x)\\\\) para valores arbitrarios de \\\\(x\\\\)"
   ]
  },
  {
   "cell_type": "markdown",
   "metadata": {},
   "source": [
    "conocemos las formulas de diferencias finitas: \n",
    "\n",
    "\\\\(\\frac{dy}{dx}|_{x=x_i}\\approx \\frac{y_{i+1}-y_{i-1}}{2h}\\\\) centrada\n",
    "\n",
    "\\\\(\\frac{dy}{dx}|_{x=x_i}\\approx \\frac{-y_{i+2}+4y_{i+1}-3y_{i}}{2h}\\\\) Hacia adelante\n",
    "\n",
    "\\\\(\\frac{dy}{dx}|_{x=x_i}\\approx \\frac{y_{i-2}-4y_{i-1}+3y_{i}}{2h}\\\\) Hacia atras\n",
    "\n",
    "\n",
    "y las de segundo orden:\n",
    "\n",
    "\\\\(\\frac{d^2y}{dx^2}|_{x=x_i}\\approx \\frac{y_{i+1}-2y_i+y_{i-1}}{h^2}\\\\) centrada\n",
    "\n",
    "\\\\(\\frac{d^2y}{dx^2}|_{x=x_i}\\approx \\frac{-y_{i+3}+42y_{i+2}-5y_{i+1}+2y_i}{h^2}\\\\) Hacia adelante\n",
    "\n",
    "\\\\(\\frac{d^2y}{dx^2}|_{x=x_i}\\approx \\frac{2y_i-5y_{i-1}+4y_{i-2}-y_{i-3}}{h^2}\\\\) Hacia atras\n",
    "    \n",
    "    "
   ]
  },
  {
   "cell_type": "markdown",
   "metadata": {},
   "source": [
    "Supongamos la cuacion diferencial\\\\(\\frac{d^2y}{dx^2}+y=0\\\\)\n",
    "con condiciones iniciales \\\\(y(0)=2\\\\) y \\\\(y(10)=0\\\\)\n",
    "\n",
    "resolver para \\\\(y(x)\\\\) para \\\\(x\\in(0,10)\\\\)"
   ]
  },
  {
   "cell_type": "code",
   "execution_count": 27,
   "metadata": {},
   "outputs": [],
   "source": [
    "h=0.01\n",
    "x = np.arange(0,10.1,h)\n",
    "z = np.zeros(len(x))\n",
    "z[0] = 2\n",
    "A=np.zeros([len(x),len(x)])"
   ]
  },
  {
   "cell_type": "code",
   "execution_count": 28,
   "metadata": {},
   "outputs": [],
   "source": [
    "for j in range(len(x)):\n",
    "    if j==0:\n",
    "        A[0,0]=1\n",
    "    elif j==len(A)-1:\n",
    "        A[len(A)-1,len(A)-1]=1\n",
    "    else:\n",
    "        A[j,j-1]=1\n",
    "        A[j,j]=-2+h**2\n",
    "        A[j,j+1]=1"
   ]
  },
  {
   "cell_type": "code",
   "execution_count": 33,
   "metadata": {},
   "outputs": [],
   "source": [
    "y=np.matmul(np.linalg.inv(A) ,z)"
   ]
  },
  {
   "cell_type": "code",
   "execution_count": 35,
   "metadata": {},
   "outputs": [
    {
     "data": {
      "text/plain": [
       "[<matplotlib.lines.Line2D at 0x22aaaf62828>]"
      ]
     },
     "execution_count": 35,
     "metadata": {},
     "output_type": "execute_result"
    },
    {
     "data": {
      "image/png": "[encoded data removed]",
      "text/plain": [
       "<Figure size 432x288 with 1 Axes>"
      ]
     },
     "metadata": {
      "needs_background": "light"
     },
     "output_type": "display_data"
    }
   ],
   "source": [
    "plt.plot(x,y)"
   ]
  }
 ],
 "metadata": {
  "kernelspec": {
   "display_name": "Python 3",
   "language": "python",
   "name": "python3"
  },
  "language_info": {
   "codemirror_mode": {
    "name": "ipython",
    "version": 3
   },
   "file_extension": ".py",
   "mimetype": "text/x-python",
   "name": "python",
   "nbconvert_exporter": "python",
   "pygments_lexer": "ipython3",
   "version": "3.6.4"
  }
 },
 "nbformat": 4,
 "nbformat_minor": 2
}
